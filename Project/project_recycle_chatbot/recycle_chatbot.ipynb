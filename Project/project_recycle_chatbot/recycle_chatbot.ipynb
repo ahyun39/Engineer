{
 "cells": [
  {
   "cell_type": "markdown",
   "id": "9f8c1573",
   "metadata": {},
   "source": [
    "# 재활용 Chatbot"
   ]
  },
  {
   "cell_type": "markdown",
   "id": "d6a2c3a9",
   "metadata": {},
   "source": [
    "# 1. 패키지 설치"
   ]
  },
  {
   "cell_type": "code",
   "execution_count": null,
   "id": "5f8fb8a3",
   "metadata": {},
   "outputs": [],
   "source": [
    "#%pip install python-dotenv langchain langchain-upstage langchain-community langchain-text-splitters docx2txt langchain-chroma"
   ]
  },
  {
   "cell_type": "markdown",
   "id": "bfa001f4",
   "metadata": {},
   "source": [
    "# 2. Knowledge Base 구성을 위한 데이터 생성\n",
    "\n",
    "- [RecursiveCharacterTextSplitter](https://python.langchain.com/v0.2/docs/how_to/recursive_text_splitter/)를 활용한 데이터 chunking\n",
    "    - split 된 데이터 chunk를 Large Language Model(LLM)에게 전달하면 토큰 절약 가능\n",
    "    - 비용 감소와 답변 생성시간 감소의 효과\n",
    "    - LangChain에서 다양한 [TextSplitter](https://python.langchain.com/v0.2/docs/how_to/#text-splitters)들을 제공\n",
    "- `chunk_size` 는 split 된 chunk의 최대 크기\n",
    "- `chunk_overlap`은 앞 뒤로 나뉘어진 chunk들이 얼마나 겹쳐도 되는지 지정"
   ]
  },
  {
   "cell_type": "code",
   "execution_count": null,
   "id": "ca9bec5d",
   "metadata": {},
   "outputs": [],
   "source": [
    "from langchain_community.document_loaders import Docx2txtLoader\n",
    "from langchain_text_splitters import RecursiveCharacterTextSplitter\n",
    "\n",
    "text_splitter = RecursiveCharacterTextSplitter(\n",
    "    chunk_size=1500,\n",
    "    chunk_overlap=200,\n",
    ")\n",
    "\n",
    "loader = Docx2txtLoader('./data/recycle.docx')\n",
    "document_list = loader.load_and_split(text_splitter=text_splitter)"
   ]
  },
  {
   "cell_type": "code",
   "execution_count": null,
   "id": "bc08c49b",
   "metadata": {},
   "outputs": [],
   "source": [
    "document_list"
   ]
  },
  {
   "cell_type": "code",
   "execution_count": null,
   "id": "dd089cd9",
   "metadata": {},
   "outputs": [],
   "source": [
    "from dotenv import load_dotenv\n",
    "from langchain_openai import OpenAIEmbeddings\n",
    "\n",
    "# 환경변수를 불러옴\n",
    "load_dotenv()\n",
    "\n",
    "# OpenAI에서 제공하는 Embedding Model을 활용해서 `chunk`를 vector화\n",
    "embedding = OpenAIEmbeddings(model='text-embedding-3-large')"
   ]
  },
  {
   "cell_type": "code",
   "execution_count": null,
   "id": "f0e3e2d1",
   "metadata": {},
   "outputs": [],
   "source": [
    "from langchain_pinecone import PineconeVectorStore\n",
    "\n",
    "index_name='recycle-index'\n",
    "chunk_size = 100  # 각 요청에 포함할 문서의 수 (예시로 100 지정)\n",
    "for i in range(0, len(document_list), chunk_size):\n",
    "    chunk_documents = document_list[i:i + chunk_size]\n",
    "    database = PineconeVectorStore.from_documents(chunk_documents, embedding, index_name=index_name)"
   ]
  },
  {
   "cell_type": "markdown",
   "id": "b03db07d",
   "metadata": {},
   "source": [
    "pinecone -> Database -> Indexes Records에서 결과 확인 가능."
   ]
  },
  {
   "cell_type": "code",
   "execution_count": null,
   "id": "bde7b122",
   "metadata": {},
   "outputs": [],
   "source": [
    "from pinecone import Pinecone\n",
    "import os\n",
    "\n",
    "pinecone_api_key = os.environ.get(\"PINECONE_KEY\")\n",
    "pc = Pinecone(api_key=pinecone_api_key)\n",
    "index = pc.Index(index_name)\n",
    "database = PineconeVectorStore(index=index, embedding=embedding)"
   ]
  },
  {
   "cell_type": "markdown",
   "id": "36502a3a",
   "metadata": {},
   "source": [
    "# 3. 답변 생성을 위한 Retrieval\n",
    "\n",
    "- `Chroma`에 저장한 데이터를 유사도 검색(`similarity_search()`)를 활용해서 가져옴"
   ]
  },
  {
   "cell_type": "code",
   "execution_count": null,
   "id": "b47659e0",
   "metadata": {},
   "outputs": [],
   "source": [
    "query = '우유를 마시고 난 후 재활용은 어떻게 하나요'\n",
    "\n",
    "# `k` 값을 조절해서 얼마나 많은 데이터를 불러올지 결정\n",
    "retrieved_docs = database.similarity_search(query, k=3)"
   ]
  },
  {
   "cell_type": "code",
   "execution_count": null,
   "id": "d6ef05bd",
   "metadata": {},
   "outputs": [
    {
     "data": {
      "text/plain": [
       "[Document(id='6b1e9e0f-af5f-42c6-80c7-365c11bab9da', metadata={'source': './data/recycle.docx'}, page_content='| \\\\-\\xa0골판지상자는 비닐코팅 부분, 상자에 붙어있는 테이프·철핀 등을 제거하고 압착 후 끈으로 묶는 등 다른 종이류와 섞이지 않게 배출 |\\n\\n| 합성                                                                         | 스티로폼 완충재                                                    | 내용물을 비우고 부착상표 등을 제거하고, 음식물이 묻어 있지 않도록 깨끗이 씻어서 배출          |\\n\\n| 수지류                                                                        |\\n\\n| 전지류                                                                        | 수은, 망간전지                                                    | 제품에서 분리한 후 인근의 전용수거함에 배출                                  |\\n\\n| 전자제품                                                                       | 소형가전                                                        | 이물질을 제거한 후 배출                                             |\\n\\n| 형광등                                                                        | 형광등                                                         | 인근의 전용수거함에 배출                                             |\\n\\n\\n\\n3. 기타 재활용가능자원\\n\\n| 품목                                                                            | 세부품목                                                                                                                                                                           | 배 출 요 령                                                    |'),\n",
       " Document(id='04d64e59-6db2-4d51-a7bd-b5246fc448dd', metadata={'source': './data/recycle.docx'}, page_content='| 수지류                                                                        | ·무색 투명한 먹는샘물, 음료 폴리에틸렌테레프탈레이트(PET)병을 제외한 PET 용기(병을 포함)·트레이류 |\\n\\n|                                                                            | ·PVC, PE, PP, PS, PSP 재질 등의 용기·트레이류                         |\\n\\n|                                                                            | 기타 플라스틱류                                                    | 이물질을 제거한 후 배출                                             |\\n\\n| 따로 배출                                                                      | 폴리에틸렌테레프탈레이트(PET)병                                          | 무색 투명한 먹는샘물, 음료 폴리에틸렌테레프탈레이트(PET)병                        | 내용물을 깨끗이 비우고 부착상표(라벨) 등을 제거한 후 가능한 압착하여 뚜껑을 닫아 배출 |\\n\\n| ※ 설탕, 유기물 등이 포함된 음료의 경우 물로 헹군 후 배출                                         |\\n\\n| 유리병                                                                        | 음료수병, 기타병류                                                  | \\\\-\\xa0색상별 용기가 설치되어 색상별로 배출이 가능한 경우 분리 배출                     |\\n\\n| \\\\-\\xa0접착제로 부착되지 아니하여 상표제거가 가능한 경우 상표를 제거한 후 배출                                |\\n\\n| 종이류                                                                        | 책, 신문지, 상자 등                                                | \\\\-\\xa0반듯하게 펴서 차곡차곡 쌓은 후 배출량이 많고 부피가 큰 것은 묶어서 배출              |\\n\\n| \\\\-\\xa0골판지상자는 비닐코팅 부분, 상자에 붙어있는 테이프·철핀 등을 제거하고 압착 후 끈으로 묶는 등 다른 종이류와 섞이지 않게 배출 |'),\n",
       " Document(id='32a09c0d-129c-4bea-a9bb-8ccd329f0a8b', metadata={'source': './data/recycle.docx'}, page_content='|                                                                                                                                                                                   | \\\\-\\xa0펌핑용기의 경우 내부 철제 스프링이 부착된 펌프는 제거하여 배출                                                                                                |\\n\\n|                                                                                                                                                                                   | ※ 해당품목 예시: 음료용기, 세정용기 등                                                                                                               |\\n\\n|                                                                                                                                                                                   | ※ 비해당품목: 플라스틱 이외의 재질이 부착된 완구·문구류, 옷걸이, 칫솔, 파일철, 전화기, 낚싯대, 유모차·보행기, CD·DVD, 여행용 트렁크, 골프가방 등은 종량제봉투, 특수규격마대 또는 대형폐기물 처리 등 지자체 조례에 따라 배출 |\\n\\n| 사. 합성수지 비닐류                                                                                                                                                                       | 비닐포장재, 1회용비닐봉투                                                                                                                        | \\\\-\\xa0내용물을 비우고 물로 헹구는 등 이물질을 제거하여 배출                                                    |')]"
      ]
     },
     "metadata": {},
     "output_type": "display_data"
    }
   ],
   "source": [
    "retrieved_docs"
   ]
  },
  {
   "cell_type": "markdown",
   "id": "27f74b03",
   "metadata": {},
   "source": [
    "# 4. Augmentation을 위한 Prompt 활용\n",
    "\n",
    "- Retrieval된 데이터는 LangChain에서 제공하는 프롬프트(`\"rlm/rag-prompt\"`) 사용"
   ]
  },
  {
   "cell_type": "code",
   "execution_count": null,
   "id": "ea937d72",
   "metadata": {},
   "outputs": [],
   "source": [
    "from langchain_openai import ChatOpenAI\n",
    "\n",
    "llm = ChatOpenAI(model='gpt-4o')"
   ]
  },
  {
   "cell_type": "code",
   "execution_count": null,
   "id": "4c9ce064",
   "metadata": {},
   "outputs": [],
   "source": [
    "from langchain import hub\n",
    "\n",
    "prompt = hub.pull(\"rlm/rag-prompt\")"
   ]
  },
  {
   "cell_type": "markdown",
   "id": "2d6c3b77",
   "metadata": {},
   "source": [
    "# 5. 답변 생성\n",
    "\n",
    "- [RetrievalQA](https://docs.smith.langchain.com/old/cookbook/hub-examples/retrieval-qa-chain)를 통해 LLM에 전달\n",
    "    - `RetrievalQA`는 [create_retrieval_chain](https://python.langchain.com/v0.2/docs/how_to/qa_sources/#using-create_retrieval_chain)으로 대체됨\n",
    "    - 실제 ChatBot 구현 시 `create_retrieval_chain`으로 변경하는 과정을 볼 수 있음"
   ]
  },
  {
   "cell_type": "code",
   "execution_count": null,
   "id": "a83210fb",
   "metadata": {},
   "outputs": [],
   "source": [
    "from langchain.chains import RetrievalQA\n",
    "\n",
    "qa_chain = RetrievalQA.from_chain_type(\n",
    "    llm, \n",
    "    retriever=database.as_retriever(),\n",
    "    chain_type_kwargs={\"prompt\": prompt}\n",
    ")"
   ]
  },
  {
   "cell_type": "code",
   "execution_count": null,
   "id": "6c70cfad",
   "metadata": {},
   "outputs": [],
   "source": [
    "ai_message = qa_chain.invoke({\"query\": query})"
   ]
  },
  {
   "cell_type": "code",
   "execution_count": null,
   "id": "ac14a8c4",
   "metadata": {},
   "outputs": [
    {
     "data": {
      "text/plain": [
       "{'query': '우유를 마시고 난 후 재활용은 어떻게 하나요',\n",
       " 'result': '우유팩은 내용물을 깨끗이 비우고, 부착된 라벨 등을 제거한 후 압착하여 끈으로 묶어 다른 종이류와 섞이지 않게 배출합니다. 종이팩은 일반 종이와 별도로 분리하여 재활용 처리해야 합니다.'}"
      ]
     },
     "metadata": {},
     "output_type": "display_data"
    }
   ],
   "source": [
    "ai_message"
   ]
  },
  {
   "cell_type": "code",
   "execution_count": null,
   "id": "61c9de0a",
   "metadata": {},
   "outputs": [],
   "source": []
  }
 ],
 "metadata": {
  "language_info": {
   "name": "python"
  }
 },
 "nbformat": 4,
 "nbformat_minor": 5
}
