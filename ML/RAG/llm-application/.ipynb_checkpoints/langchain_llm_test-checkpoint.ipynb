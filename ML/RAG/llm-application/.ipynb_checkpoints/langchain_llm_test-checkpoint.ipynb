{
 "cells": [
  {
   "cell_type": "code",
   "execution_count": null,
   "id": "74e537d0",
   "metadata": {},
   "outputs": [],
   "source": [
    "%pip install langchain-openai python-dotenv"
   ]
  },
  {
   "cell_type": "code",
   "execution_count": 2,
   "id": "2b363048",
   "metadata": {},
   "outputs": [
    {
     "data": {
      "text/plain": [
       "True"
      ]
     },
     "execution_count": 2,
     "metadata": {},
     "output_type": "execute_result"
    }
   ],
   "source": [
    "from dotenv import load_dotenv\n",
    "\n",
    "load_dotenv() # .env 파일을 찾아서 불러온다."
   ]
  },
  {
   "cell_type": "code",
   "execution_count": 3,
   "id": "aeb07fa0",
   "metadata": {},
   "outputs": [],
   "source": [
    "# lanchain\n",
    "\n",
    "from langchain_openai import ChatOpenAI\n",
    "\n",
    "llm = ChatOpenAI()"
   ]
  },
  {
   "cell_type": "code",
   "execution_count": 4,
   "id": "0bdf7c26",
   "metadata": {},
   "outputs": [
    {
     "data": {
      "text/plain": [
       "AIMessage(content='인프런에는 프로그래밍, 디자인, 비즈니스, 마케팅, 헬스케어, 엔터테인먼트 등 다양한 분야의 강의가 있습니다. 예를 들어 프로그래밍 언어부터 웹 개발, 데이터 분석, 머신러닝, 디자인 도구 활용, 비즈니스 전략, 마케팅 전략, 피트니스 운동법, 요가 등 다양한 주제의 강의를 수강할 수 있습니다. 원하는 분야나 관심사에 맞는 강의를 찾아 수강하면 실력 향상이 가능합니다.', additional_kwargs={'refusal': None}, response_metadata={'token_usage': {'completion_tokens': 204, 'prompt_tokens': 26, 'total_tokens': 230, 'completion_tokens_details': {'accepted_prediction_tokens': 0, 'audio_tokens': 0, 'reasoning_tokens': 0, 'rejected_prediction_tokens': 0}, 'prompt_tokens_details': {'audio_tokens': 0, 'cached_tokens': 0}}, 'model_name': 'gpt-3.5-turbo-0125', 'system_fingerprint': None, 'id': 'chatcmpl-BNJmlnCMPeCNVUA4ncI6l0PheqQ6G', 'finish_reason': 'stop', 'logprobs': None}, id='run-3a926e97-5315-45de-9e0c-db9c3d8dcbaa-0', usage_metadata={'input_tokens': 26, 'output_tokens': 204, 'total_tokens': 230, 'input_token_details': {'audio': 0, 'cache_read': 0}, 'output_token_details': {'audio': 0, 'reasoning': 0}})"
      ]
     },
     "execution_count": 4,
     "metadata": {},
     "output_type": "execute_result"
    }
   ],
   "source": [
    "# message 작성\n",
    "\n",
    "llm.invoke(\"인프런에 어떤 강의가 있나요?\") # AIMessage라는 class 안에 content가 들어있는 형식으로 출력된다."
   ]
  },
  {
   "cell_type": "code",
   "execution_count": 5,
   "id": "99e14ebd",
   "metadata": {},
   "outputs": [
    {
     "data": {
      "text/plain": [
       "'인프런은 다양한 분야에 대한 수업을 제공하는 온라인 교육 플랫폼입니다. 주요 카테고리로는 프로그래밍, 비즈니스, 마케팅, 투자 및 금융, 미술 및 디자인, 공예, 언어 등이 있습니다. 실무 경험이 풍부한 전문가들이 직접 강의를 진행하며, 강의 영상뿐만 아니라 실습 자료 및 퀴즈 등을 통해 학습자가 실질적인 지식을 습득할 수 있도록 도와줍니다. 원하는 분야나 주제에 따라 수업을 선택하고 수강할 수 있는데, 다양한 강의가 제공되므로 자신에게 맞는 강의를 찾아 수강할 수 있습니다.'"
      ]
     },
     "execution_count": 5,
     "metadata": {},
     "output_type": "execute_result"
    }
   ],
   "source": [
    "# 텍스트만 보고 싶은 경우\n",
    "ai_message = llm.invoke(\"인프런에 어떤 강의가 있나요?\")\n",
    "ai_message.content"
   ]
  }
 ],
 "metadata": {
  "kernelspec": {
   "display_name": "base",
   "language": "python",
   "name": "python3"
  },
  "language_info": {
   "codemirror_mode": {
    "name": "ipython",
    "version": 3
   },
   "file_extension": ".py",
   "mimetype": "text/x-python",
   "name": "python",
   "nbconvert_exporter": "python",
   "pygments_lexer": "ipython3",
   "version": "3.9.21"
  }
 },
 "nbformat": 4,
 "nbformat_minor": 5
}
