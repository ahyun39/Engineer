{
 "cells": [
  {
   "cell_type": "code",
   "execution_count": null,
   "id": "74e537d0",
   "metadata": {},
   "outputs": [],
   "source": [
    "%pip install langchain-openai python-dotenv"
   ]
  },
  {
   "cell_type": "code",
   "execution_count": null,
   "id": "2b363048",
   "metadata": {},
   "outputs": [],
   "source": [
    "from dotenv import load_dotenv\n",
    "\n",
    "load_dotenv() # .env 파일을 찾아서 불러온다."
   ]
  },
  {
   "cell_type": "code",
   "execution_count": null,
   "id": "aeb07fa0",
   "metadata": {},
   "outputs": [],
   "source": [
    "# lanchain\n",
    "\n",
    "from langchain_openai import ChatOpenAI\n",
    "\n",
    "llm = ChatOpenAI()"
   ]
  },
  {
   "cell_type": "code",
   "execution_count": null,
   "id": "0bdf7c26",
   "metadata": {},
   "outputs": [],
   "source": [
    "# message 작성\n",
    "\n",
    "llm.invoke(\"인프런에 어떤 강의가 있나요?\") # AIMessage라는 class 안에 content가 들어있는 형식으로 출력된다."
   ]
  },
  {
   "cell_type": "code",
   "execution_count": null,
   "id": "99e14ebd",
   "metadata": {},
   "outputs": [],
   "source": [
    "# 텍스트만 보고 싶은 경우\n",
    "ai_message = llm.invoke(\"인프런에 어떤 강의가 있나요?\")\n",
    "ai_message.content"
   ]
  }
 ],
 "metadata": {
  "kernelspec": {
   "display_name": "Python 3 (ipykernel)",
   "language": "python",
   "name": "python3"
  },
  "language_info": {
   "codemirror_mode": {
    "name": "ipython",
    "version": 3
   },
   "file_extension": ".py",
   "mimetype": "text/x-python",
   "name": "python",
   "nbconvert_exporter": "python",
   "pygments_lexer": "ipython3",
   "version": "3.9.21"
  }
 },
 "nbformat": 4,
 "nbformat_minor": 5
}
