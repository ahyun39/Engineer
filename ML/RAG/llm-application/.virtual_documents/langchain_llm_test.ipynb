%pip install langchain-openai python-dotenv


from dotenv import load_dotenv

load_dotenv() # .env 파일을 찾아서 불러온다.


# lanchain

from langchain_openai import ChatOpenAI

llm = ChatOpenAI()


# message 작성

llm.invoke("인프런에 어떤 강의가 있나요?") # AIMessage라는 class 안에 content가 들어있는 형식으로 출력된다.


# 텍스트만 보고 싶은 경우
ai_message = llm.invoke("인프런에 어떤 강의가 있나요?")
ai_message.content
