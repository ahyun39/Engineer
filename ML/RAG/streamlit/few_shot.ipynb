{
 "cells": [
  {
   "cell_type": "markdown",
   "id": "f54d94fd",
   "metadata": {},
   "source": [
    "현재 구현된 챗봇이 답변을 할 때에는 답변은 정확하지만 출처를 가져오지 않는다.\n",
    "\n",
    "few-shot을 이용해서 출처를 가져올 수 있게 한다."
   ]
  }
 ],
 "metadata": {
  "language_info": {
   "name": "python"
  }
 },
 "nbformat": 4,
 "nbformat_minor": 5
}
